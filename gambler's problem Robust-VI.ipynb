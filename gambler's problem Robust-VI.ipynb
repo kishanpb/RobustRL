{
 "cells": [
  {
   "cell_type": "code",
   "execution_count": 1,
   "metadata": {},
   "outputs": [],
   "source": [
    "import numpy as np\n",
    "import matplotlib.pyplot as plt"
   ]
  },
  {
   "cell_type": "code",
   "execution_count": 2,
   "metadata": {},
   "outputs": [],
   "source": [
    "def value_iteration_for_gamblers(p_h, theta=0.0001, discount_factor=1.0):\n",
    "    \"\"\"\n",
    "    Args:\n",
    "        p_h: Probability of the coin coming up heads\n",
    "    \"\"\"\n",
    "    # The reward is zero on all transitions except those on which the gambler reaches his goal,\n",
    "    # when it is +1.\n",
    "    rewards = np.zeros(101)\n",
    "    rewards[100] = 1 \n",
    "    \n",
    "    # We introduce two dummy states corresponding to termination with capital of 0 and 100\n",
    "    V = np.zeros(101)\n",
    "    \n",
    "    def one_step_lookahead(s, V, rewards):\n",
    "        \"\"\"\n",
    "        Calculate the value for all action in a given state.\n",
    "        \"\"\"\n",
    "        A = np.zeros(101)\n",
    "        stakes = range(1, min(s, 100-s)+1) # Your minimum bet is 1, maximum bet is min(s, 100-s).\n",
    "        for a in stakes:\n",
    "            # rewards[s+a], rewards[s-a] are immediate rewards.\n",
    "            # V[s+a], V[s-a] are values of the next states.\n",
    "            # This is the core of the Bellman equation: The expected value of your action is \n",
    "            # the sum of immediate rewards and the value of the next state.\n",
    "            A[a] = p_h * (rewards[s+a] + V[s+a]*discount_factor) + (1-p_h) * (rewards[s-a] + V[s-a]*discount_factor)\n",
    "        return A\n",
    "    \n",
    "    while True:\n",
    "        # Stopping condition\n",
    "        delta = 0\n",
    "        # Update each state...\n",
    "        for s in range(1, 100):\n",
    "            # Do a one-step lookahead to find the best action\n",
    "            A = one_step_lookahead(s, V, rewards)\n",
    "            best_action_value = np.max(A)\n",
    "            # Calculate delta across all states seen so far\n",
    "            delta = max(delta, np.abs(best_action_value - V[s]))\n",
    "            # Update the value function.\n",
    "            V[s] = best_action_value        \n",
    "        # Check if we can stop \n",
    "        if delta < theta:\n",
    "            break\n",
    "    \n",
    "    # Create a deterministic policy using the optimal value function\n",
    "    policy = np.zeros(100)\n",
    "    for s in range(1, 100):\n",
    "        # One step lookahead to find the best action for this state\n",
    "        A = one_step_lookahead(s, V, rewards)\n",
    "        best_action = np.argmax(A)\n",
    "        # Always take the best action\n",
    "        policy[s] = best_action\n",
    "    \n",
    "    return policy, V"
   ]
  },
  {
   "cell_type": "code",
   "execution_count": 3,
   "metadata": {},
   "outputs": [
    {
     "name": "stdout",
     "output_type": "stream",
     "text": [
      "Optimized Policy:\n",
      "[0. 1. 1. 1. 1. 1. 1. 1. 1. 1. 1. 1. 1. 1. 1. 1. 1. 1. 1. 1. 1. 1. 1. 1.\n",
      " 1. 1. 1. 1. 1. 1. 1. 1. 1. 1. 1. 1. 1. 1. 2. 2. 2. 2. 2. 2. 2. 2. 2. 2.\n",
      " 2. 2. 2. 2. 2. 2. 2. 2. 2. 2. 2. 2. 2. 2. 2. 2. 2. 2. 2. 2. 2. 2. 2. 2.\n",
      " 2. 2. 2. 1. 1. 1. 1. 1. 1. 1. 1. 1. 1. 1. 1. 1. 1. 1. 1. 1. 1. 1. 1. 1.\n",
      " 1. 1. 1. 1.]\n",
      "Optimized Value Function:\n",
      "[0.         0.33187815 0.55320397 0.70084426 0.79936858 0.86515101\n",
      " 0.9091039  0.93849981 0.9581857  0.97139209 0.98027239 0.98626215\n",
      " 0.99031861 0.9930802  0.99497294 0.99628122 0.99719506 0.99784156\n",
      " 0.99830584 0.99864503 0.99889757 0.9990894  0.99923812 0.99935575\n",
      " 0.99945054 0.99952821 0.9995928  0.99964717 0.9996934  0.99973301\n",
      " 0.99976716 0.99979676 0.99982237 0.99984461 0.9998639  0.99988069\n",
      " 0.99989531 0.99990805 0.99991918 0.99992891 0.99993742 0.99994487\n",
      " 0.99995141 0.99995716 0.99996221 0.99996665 0.99997056 0.99997401\n",
      " 0.99997706 0.99997974 0.99998212 0.99998421 0.99998607 0.99998771\n",
      " 0.99998916 0.99999044 0.99999158 0.99999259 0.99999348 0.99999426\n",
      " 0.99999496 0.99999558 0.99999612 0.99999661 0.99999703 0.99999741\n",
      " 0.99999774 0.99999803 0.99999829 0.99999852 0.99999872 0.99999889\n",
      " 0.99999905 0.99999918 0.9999993  0.9999994  0.99999949 0.99999957\n",
      " 0.99999964 0.9999997  0.99999975 0.99999979 0.99999983 0.99999986\n",
      " 0.99999989 0.99999991 0.99999993 0.99999995 0.99999996 0.99999997\n",
      " 0.99999998 0.99999998 0.99999999 0.99999999 0.99999999 1.\n",
      " 1.         1.         1.         1.         0.        ]\n"
     ]
    }
   ],
   "source": [
    "nonrobust_opt_policy, nonrobust_opt_v = value_iteration_for_gamblers(0.6)\n",
    "\n",
    "print(\"Optimized Policy:\")\n",
    "print(nonrobust_opt_policy)\n",
    "\n",
    "print(\"Optimized Value Function:\")\n",
    "print(nonrobust_opt_v)"
   ]
  },
  {
   "cell_type": "markdown",
   "metadata": {},
   "source": [
    "# generative sampling"
   ]
  },
  {
   "cell_type": "code",
   "execution_count": 13,
   "metadata": {},
   "outputs": [],
   "source": [
    "def empirical_est(p_h,n=20):\n",
    "    \n",
    "    ns = [0, 1] # == s+a, s-a states\n",
    "    data = np.random.choice(ns, n, p = [p_h, 1-p_h])\n",
    "    \n",
    "    est_p = [len(np.where(data == 0)[0])*1.0/n,\n",
    "             len(np.where(data == 1)[0])*1.0/n,]\n",
    "    \n",
    "    return est_p"
   ]
  },
  {
   "cell_type": "markdown",
   "metadata": {},
   "source": [
    "# l1 and chi2 ambiguity"
   ]
  },
  {
   "cell_type": "code",
   "execution_count": 121,
   "metadata": {},
   "outputs": [],
   "source": [
    "from numpy import ma\n",
    "from scipy.optimize import minimize\n",
    "\n",
    "flag=input(\"\\nEnter '1' for l1 uncertainty set or '2' for chi2 uncertainty set.\\n\")\n",
    "\n",
    "\n",
    "if flag==\"1\":          \n",
    "\n",
    "\n",
    "    def worstcase_l1(v,q,t):\n",
    "        \"\"\"\n",
    "        o = worstcase_l1(v,q,t)\n",
    "\n",
    "        Computes the solution of:\n",
    "        min_p   p^T * v\n",
    "        s.t.    \\|p,q\\|_1 <= t\n",
    "        via it's Dual formulation\n",
    "\n",
    "        where o is the objective value\n",
    "\n",
    "        Notes\n",
    "        -----\n",
    "\n",
    "        \"\"\"\n",
    "        if t == 0:\n",
    "            return np.dot(q,v)\n",
    "        if t < 0:\n",
    "            raise ValueError('Bound t must be greater than 0.')\n",
    "        if q.dtype != float:\n",
    "            raise ValueError('Value q must be a float array.')    \n",
    "\n",
    "        S = len(v)\n",
    "\n",
    "        fun = lambda x: np.dot(q,x) + (t/2) * ( np.max(v-x) - np.min(v-x) )\n",
    "        cons = ({'type': 'ineq', 'fun': lambda x:  x},\n",
    "    #             {'type': 'ineq', 'fun': lambda x:  v-x },\n",
    "                 )\n",
    "        x0 = np.random.rand(S)\n",
    "    #     x0 /= np.sum(x0)\n",
    "\n",
    "        res = minimize(fun, x0, method='SLSQP', constraints=cons,\n",
    "                          tol=1e-3) #, options = {'disp': True})\n",
    "\n",
    "        return np.dot(q,v) - res.fun\n",
    "    \n",
    "else:\n",
    "\n",
    "    def worstcase_l1(v,q,t):\n",
    "        \"\"\"\n",
    "        o = worstcase_l1(v,q,t)\n",
    "\n",
    "        Computes the solution of:\n",
    "        min_p   p^T * v\n",
    "        s.t.    D_c(p,q) <= t\n",
    "        via it's Dual formulation\n",
    "\n",
    "        where o is the objective value\n",
    "\n",
    "        Notes\n",
    "        -----\n",
    "\n",
    "        \"\"\"\n",
    "        if t == 0:\n",
    "            return np.dot(q,v)\n",
    "        if t < 0:\n",
    "            raise ValueError('Bound t must be greater than 0.')\n",
    "        if q.dtype != float:\n",
    "            raise ValueError('Value q must be a float array.')    \n",
    "\n",
    "        S = len(v)\n",
    "\n",
    "        fun = lambda x: np.dot(q,x) + np.sqrt(t * ( np.dot(q,(v-x)**2) - (np.dot(q,(v-x)))**2))\n",
    "        cons = ({'type': 'ineq', 'fun': lambda x:  x},\n",
    "    #             {'type': 'ineq', 'fun': lambda x:  v-x },\n",
    "                 )\n",
    "        x0 = np.random.rand(S)\n",
    "    #     x0 /= np.sum(x0)\n",
    "\n",
    "        res = minimize(fun, x0, method='SLSQP', constraints=cons, #bounds=bnds,\n",
    "                          tol=1e-3) #, options = {'disp': True})\n",
    "\n",
    "        return np.dot(q,v) - res.fun"
   ]
  },
  {
   "cell_type": "markdown",
   "metadata": {},
   "source": [
    "# Robust VI algorithm"
   ]
  },
  {
   "cell_type": "code",
   "execution_count": 124,
   "metadata": {},
   "outputs": [],
   "source": [
    "def robust_vi_for_gamblers(p_h, max_states_plus_1 = 100, theta=1e-4, \n",
    "                           discount_factor=1.0, c_r=0.2, max_iteration=100, uncer='l1',\n",
    "                           num_samp=40):\n",
    "    \"\"\"\n",
    "    Args:\n",
    "        p_h: Probability of the coin coming up heads\n",
    "    \"\"\"\n",
    "    # The reward is zero on all transitions except those on which the gambler reaches his goal,\n",
    "    # when it is +1.\n",
    "    with_dummy_states = max_states_plus_1 + 1\n",
    "    rewards = np.zeros(with_dummy_states)\n",
    "    rewards[max_states_plus_1] = 1 \n",
    "    \n",
    "    # We introduce two dummy states corresponding to termination with capital of 0 and 100\n",
    "    V = np.zeros(with_dummy_states)\n",
    "    \n",
    "    def one_step_lookahead(s, V, rewards, c_r=0.2):\n",
    "        \"\"\"\n",
    "        Helper function to calculate the value for all action in a given state.\n",
    "        \n",
    "        Args:\n",
    "            s: The gambler’s capital. Integer.\n",
    "            V: The vector that contains values at each state. \n",
    "            rewards: The reward vector.\n",
    "                        \n",
    "        Returns:\n",
    "            A vector containing the expected value of each action. \n",
    "            Its length equals to the number of actions.\n",
    "        \"\"\"\n",
    "        A = np.zeros(with_dummy_states)\n",
    "        stakes = range(1, min(s, max_states_plus_1-s)+1) # Your minimum bet is 1, maximum bet is min(s, 100-s).\n",
    "        for a in stakes:\n",
    "            # rewards[s+a], rewards[s-a] are immediate rewards.\n",
    "            # V[s+a], V[s-a] are values of the next states.\n",
    "            # Robust Bellman equation:\n",
    "            z = [rewards[s+a] + V[s+a]*discount_factor, rewards[s-a] + V[s-a]*discount_factor]\n",
    "            if uncer=='l1':\n",
    "                A[a] = worstcase_l1(np.array(z), np.array([p_h, 1-p_h]), c_r)\n",
    "            elif uncer=='l1hat':\n",
    "                est_p = empirical_est(p_h,n=num_samp)\n",
    "                A[a] = worstcase_l1(np.array(z), np.array(est_p), c_r)\n",
    "        return A\n",
    "    \n",
    "    itera = 1\n",
    "    vf_collect = np.zeros((max_iteration,with_dummy_states))\n",
    "    while itera <= max_iteration:\n",
    "        if itera%10==0:\n",
    "            print(\"VI iters done : \", itera)\n",
    "        itera += 1\n",
    "        # Stopping condition\n",
    "        delta = 0\n",
    "        # Update each state...\n",
    "        for s in range(1, max_states_plus_1):\n",
    "            # Do a one-step lookahead to find the best action\n",
    "            A = one_step_lookahead(s, V, rewards, c_r)\n",
    "            best_action_value = np.max(A)\n",
    "            # Calculate delta across all states seen so far\n",
    "            delta = max(delta, np.abs(best_action_value - V[s]))\n",
    "            # Update the value function. Ref: Sutton book eq. 4.10. \n",
    "            V[s] = best_action_value        \n",
    "        # Check if we can stop \n",
    "        vf_collect[itera-2,:] = V\n",
    "        if delta < theta:\n",
    "            break\n",
    "    \n",
    "    lastvk_robopt_diff = -1\n",
    "    if uncer=='l1hat':\n",
    "        temp=np.zeros_like(vf_collect[0:itera-1,:])\n",
    "        temp[:,]=robust_opt_v_l1\n",
    "        temp1 = abs(vf_collect[0:itera-1,:]-temp)\n",
    "        v_k_robopt_diff = temp1.max(axis=1)\n",
    "        lastvk_robopt_diff = v_k_robopt_diff[-1]\n",
    "\n",
    "#         ### LEARNING CURVE save data\n",
    "#         np.savetxt('gambler_l1_cr_0.2_learning.csv', (range(1,itera), v_k_robopt_diff),\\\n",
    "#                                        delimiter=',')\n",
    "        #### Temporary plot\n",
    "#         plt.figure()\n",
    "        plt.plot(range(1,itera),v_k_robopt_diff)\n",
    "        plt.ylabel(r'$||V_k-V^*||$')\n",
    "        plt.xlabel('iteration k')\n",
    "    \n",
    "    # Create a deterministic policy using the optimal value function\n",
    "    policy = np.zeros(max_states_plus_1)\n",
    "    for s in range(1, max_states_plus_1):\n",
    "        # One step lookahead to find the best action for this state\n",
    "        A = one_step_lookahead(s, V, rewards, c_r)\n",
    "        best_action = np.argmax(A)\n",
    "        # Always take the best action\n",
    "        policy[s] = best_action\n",
    "    \n",
    "    return policy, V, lastvk_robopt_diff"
   ]
  },
  {
   "cell_type": "markdown",
   "metadata": {},
   "source": [
    "# robust VI with P^o + l1/chi2"
   ]
  },
  {
   "cell_type": "code",
   "execution_count": 131,
   "metadata": {},
   "outputs": [
    {
     "name": "stdout",
     "output_type": "stream",
     "text": [
      "VI iters done :  10\n",
      "Optimized Policy:\n",
      "[ 0.  1.  2.  3.  4.  5.  6.  7.  8.  9. 10. 11. 12. 13. 14. 15. 16. 17.\n",
      " 18. 19. 20. 21. 22. 23. 24. 25. 26. 27. 28. 29. 30. 31. 32. 33. 34. 35.\n",
      " 36. 37. 38. 39. 40. 41. 42. 43. 44. 45. 46. 47. 23. 24. 25. 26. 27. 28.\n",
      " 29.  7.  6. 32. 33. 34. 35. 36. 37. 13. 14. 16. 16.  5. 18. 20.  8. 21.\n",
      " 10.  1. 24. 25. 14. 15.  3. 17.  6.  6.  8. 15.  2.  4.  5. 12.  2.  3.\n",
      "  1.  5.  6.  6.  5.  3.  2.  1.  1.  1.]\n",
      "Optimized Value Function:\n",
      "[0.         0.00999999 0.02       0.03       0.04       0.05\n",
      " 0.06       0.07       0.08       0.09       0.1        0.11\n",
      " 0.12       0.13       0.14       0.15       0.16       0.17\n",
      " 0.18       0.19       0.2        0.21       0.22       0.23\n",
      " 0.24       0.25       0.26       0.27       0.28       0.29\n",
      " 0.3        0.31       0.32       0.33       0.34       0.35\n",
      " 0.36       0.37       0.38       0.39       0.4        0.41\n",
      " 0.42       0.43       0.44       0.45       0.46       0.47\n",
      " 0.48       0.49       0.5        0.51       0.52       0.53\n",
      " 0.54       0.55       0.56       0.57       0.58       0.59\n",
      " 0.6        0.61       0.62       0.63       0.64       0.65\n",
      " 0.66       0.67       0.68       0.69       0.7        0.71\n",
      " 0.72       0.73       0.74       0.75       0.76       0.77\n",
      " 0.78       0.79       0.8        0.81       0.82       0.83\n",
      " 0.84       0.85       0.86       0.87       0.88       0.89\n",
      " 0.9        0.91       0.92       0.93       0.94       0.95\n",
      " 0.96       0.97       0.98       0.99       0.        ]\n"
     ]
    }
   ],
   "source": [
    "robust_opt_policy_l1, robust_opt_v_l1, _ = robust_vi_for_gamblers(0.6, max_iteration=200, c_r = 0.2, uncer='l1')\n",
    "\n",
    "print(\"Optimized Policy:\")\n",
    "print(robust_opt_policy_l1)\n",
    "\n",
    "print(\"Optimized Value Function:\")\n",
    "print(robust_opt_v_l1)"
   ]
  },
  {
   "cell_type": "markdown",
   "metadata": {},
   "source": [
    "# robust VI with \\hat{P} + l1/chi2"
   ]
  },
  {
   "cell_type": "code",
   "execution_count": 125,
   "metadata": {},
   "outputs": [
    {
     "name": "stdout",
     "output_type": "stream",
     "text": [
      "Optimized Policy:\n",
      "[ 0.  1.  2.  3.  4.  5.  6.  6.  7.  4.  3.  2.  8. 12. 11.  9.  3.  4.\n",
      " 11.  6.  7.  4.  9. 12.  4. 12.  7. 11. 11. 25. 25.  4.  4.  4. 12. 13.\n",
      "  8.  9. 10.  9.  1.  4.  6. 12.  4.  3.  2. 10. 14.  1.  2. 19.  4.  4.\n",
      "  1.  7.  8.  9.  8. 13.  8.  1. 20.  9. 16.  6.  7. 15. 17.  3.  2.  5.\n",
      "  6.  1.  2.  4.  4.  6.  3.  3.  2.  9.  3.  1.  5.  3.  4.  1.  9.  1.\n",
      "  2.  3.  4.  5.  4.  2.  1.  1.  2.  1.]\n",
      "Optimized Value Function:\n",
      "[0.         0.00856798 0.02004463 0.03244832 0.04307605 0.05443473\n",
      " 0.06567485 0.07727447 0.08729028 0.09810862 0.10960822 0.11970742\n",
      " 0.13104141 0.14445318 0.15345677 0.16345985 0.17408758 0.18593084\n",
      " 0.1971702  0.20741949 0.21858245 0.22962663 0.24037017 0.25021846\n",
      " 0.26159314 0.27367496 0.28324058 0.29464646 0.30507385 0.31523338\n",
      " 0.32527285 0.33576518 0.34740584 0.35805614 0.36759459 0.3784624\n",
      " 0.38852477 0.39973972 0.40938122 0.42008583 0.43019909 0.44077361\n",
      " 0.45156707 0.4603708  0.47136733 0.48247064 0.49126279 0.50096018\n",
      " 0.51449362 0.52245261 0.53250576 0.54217089 0.55232799 0.5627702\n",
      " 0.57282165 0.58400587 0.59236764 0.60311576 0.6122101  0.62287593\n",
      " 0.63232861 0.64248061 0.65147863 0.66091807 0.67078666 0.68243681\n",
      " 0.69191753 0.6997458  0.71010789 0.71911594 0.7284086  0.73958078\n",
      " 0.7508828  0.75804545 0.76740214 0.77811539 0.78721053 0.79594276\n",
      " 0.80433456 0.81530613 0.82423132 0.8326835  0.84318357 0.85167799\n",
      " 0.86043385 0.86998953 0.87867068 0.88758583 0.89706116 0.90544387\n",
      " 0.9144358  0.92272692 0.93168801 0.94015881 0.94871172 0.95778263\n",
      " 0.96615276 0.97489828 0.98341047 0.99149289 0.        ]\n"
     ]
    },
    {
     "data": {
      "image/png": "[encoded data removed]",
      "text/plain": [
       "<Figure size 432x288 with 1 Axes>"
      ]
     },
     "metadata": {
      "needs_background": "light"
     },
     "output_type": "display_data"
    }
   ],
   "source": [
    "robust_hat_policy_l1, robust_hat_v_l1, _ = robust_vi_for_gamblers(0.6, max_iteration=200, c_r = 0.2, theta=1e-2,\n",
    "                                                               uncer='l1hat', num_samp=5000)\n",
    "\n",
    "print(\"Optimized Policy:\")\n",
    "print(robust_hat_policy_l1)\n",
    "\n",
    "print(\"Optimized Value Function:\")\n",
    "print(robust_hat_v_l1)"
   ]
  },
  {
   "cell_type": "markdown",
   "metadata": {},
   "source": [
    "# Performance N curve"
   ]
  },
  {
   "cell_type": "code",
   "execution_count": 126,
   "metadata": {},
   "outputs": [
    {
     "name": "stdout",
     "output_type": "stream",
     "text": [
      "seed -  0\n",
      "VI iters done :  10\n",
      "VI iters done :  20\n",
      "VI iters done :  30\n",
      "VI iters done :  40\n",
      "VI iters done :  10\n",
      "seed -  1\n",
      "VI iters done :  10\n",
      "VI iters done :  20\n",
      "VI iters done :  30\n",
      "VI iters done :  40\n",
      "VI iters done :  50\n",
      "VI iters done :  60\n",
      "VI iters done :  70\n",
      "VI iters done :  80\n",
      "VI iters done :  90\n",
      "VI iters done :  100\n",
      "VI iters done :  10\n",
      "seed -  2\n",
      "VI iters done :  10\n",
      "VI iters done :  20\n",
      "VI iters done :  30\n",
      "VI iters done :  40\n",
      "VI iters done :  50\n",
      "VI iters done :  10\n",
      "seed -  3\n",
      "VI iters done :  10\n",
      "VI iters done :  20\n",
      "VI iters done :  30\n",
      "VI iters done :  40\n",
      "VI iters done :  50\n",
      "VI iters done :  60\n",
      "VI iters done :  70\n",
      "VI iters done :  10\n",
      "seed -  4\n",
      "VI iters done :  10\n",
      "VI iters done :  20\n",
      "VI iters done :  30\n",
      "VI iters done :  40\n",
      "VI iters done :  50\n",
      "VI iters done :  10\n",
      "seed -  5\n",
      "VI iters done :  10\n",
      "VI iters done :  20\n",
      "VI iters done :  30\n",
      "VI iters done :  40\n",
      "VI iters done :  50\n",
      "VI iters done :  10\n",
      "seed -  6\n",
      "VI iters done :  10\n",
      "VI iters done :  20\n",
      "VI iters done :  30\n",
      "VI iters done :  40\n",
      "VI iters done :  10\n",
      "seed -  7\n",
      "VI iters done :  10\n",
      "VI iters done :  20\n",
      "VI iters done :  30\n",
      "VI iters done :  40\n",
      "VI iters done :  50\n",
      "VI iters done :  60\n",
      "VI iters done :  10\n",
      "seed -  8\n",
      "VI iters done :  10\n",
      "VI iters done :  20\n",
      "VI iters done :  30\n",
      "VI iters done :  40\n",
      "VI iters done :  10\n",
      "VI iters done :  20\n",
      "seed -  9\n",
      "VI iters done :  10\n",
      "VI iters done :  20\n",
      "VI iters done :  30\n",
      "VI iters done :  40\n",
      "VI iters done :  10\n"
     ]
    },
    {
     "data": {
      "text/plain": [
       "Text(0,0.5,'value diff')"
      ]
     },
     "execution_count": 126,
     "metadata": {},
     "output_type": "execute_result"
    },
    {
     "data": {
      "image/png": "[encoded data removed]",
      "text/plain": [
       "<Figure size 432x288 with 1 Axes>"
      ]
     },
     "metadata": {
      "needs_background": "light"
     },
     "output_type": "display_data"
    },
    {
     "data": {
      "image/png": "[encoded data removed]",
      "text/plain": [
       "<Figure size 432x288 with 1 Axes>"
      ]
     },
     "metadata": {
      "needs_background": "light"
     },
     "output_type": "display_data"
    },
    {
     "data": {
      "image/png": "[encoded data removed]",
      "text/plain": [
       "<Figure size 432x288 with 1 Axes>"
      ]
     },
     "metadata": {
      "needs_background": "light"
     },
     "output_type": "display_data"
    }
   ],
   "source": [
    "n_range = [100, 500, 3000, 5000, 7000]\n",
    "\n",
    "s_range = range(10)\n",
    "diff_seeds = np.zeros((len(s_range),len(n_range)))\n",
    "pol_seed = []\n",
    "for s in s_range:\n",
    "    print(\"seed - \", s)\n",
    "    diff_values = []\n",
    "    pol = []\n",
    "    for n in n_range:\n",
    "        np.random.seed(s+n)\n",
    "        temp_pol, _, diff = robust_vi_for_gamblers(0.6, max_iteration=200, c_r = 0.2, \n",
    "                                                    theta=1e-2, uncer='l1hat', num_samp=n)\n",
    "        diff_values.append(diff)\n",
    "        pol.append(temp_pol)\n",
    "    diff_seeds[s,:] = diff_values\n",
    "    pol_seed.append(pol)\n",
    "    \n",
    "plt.figure()\n",
    "plt.plot(n_range,diff_values)\n",
    "plt.xlabel(\"N\")\n",
    "plt.ylabel(\"value diff\")\n",
    "\n",
    "plt.figure()\n",
    "plt.plot(n_range,np.mean(diff_seeds,axis=0))\n",
    "plt.xlabel(\"N\")\n",
    "plt.ylabel(\"value diff\")"
   ]
  },
  {
   "cell_type": "code",
   "execution_count": 127,
   "metadata": {},
   "outputs": [
    {
     "name": "stdout",
     "output_type": "stream",
     "text": [
      "[0.03172956 0.01009813 0.00208795 0.00084112 0.00089818]\n"
     ]
    },
    {
     "data": {
      "image/png": "[encoded data removed]",
      "text/plain": [
       "<Figure size 432x288 with 1 Axes>"
      ]
     },
     "metadata": {
      "needs_background": "light"
     },
     "output_type": "display_data"
    }
   ],
   "source": [
    "plt.figure()\n",
    "mean_vals = np.mean(diff_seeds,axis=0)\n",
    "std_vals = np.std(diff_seeds,axis=0)\n",
    "print(std_vals)\n",
    "plt.plot(n_range,mean_vals, color='b', label='LSPI')\n",
    "plt.fill_between(n_range, mean_vals - std_vals, mean_vals + std_vals, color='skyblue' )\n",
    "plt.xlabel(\"N\",fontsize=14)\n",
    "plt.ylabel(\"V_k- V^*\",fontsize=14)\n",
    "plt.legend(loc = 'upper left')\n",
    "plt.grid()\n",
    "plt.xscale('log')\n",
    "plt.show()\n",
    "\n",
    "# Uncomment this if you want to save data\n",
    "# np.savetxt('gambler_l1_c_r_0.2_N_2.csv', (n_range, mean_vals, std_vals),\\\n",
    "#                                    delimiter=',')"
   ]
  },
  {
   "cell_type": "markdown",
   "metadata": {},
   "source": [
    "# Performance of Robust vs non-robust policies"
   ]
  },
  {
   "cell_type": "code",
   "execution_count": 128,
   "metadata": {},
   "outputs": [],
   "source": [
    "def gamblers_step(s, a, p_h, max_states_plus_1):\n",
    "    if np.random.binomial(1, p_h, 1):\n",
    "        ns = s + a\n",
    "    else:\n",
    "        ns = s - a\n",
    "        \n",
    "    if ns >= max_states_plus_1:\n",
    "        return ns, 1\n",
    "    else:\n",
    "        return ns, 0\n",
    "\n",
    "def run_policy(p_h, policy, max_states_plus_1 = 100, max_steps = 400):\n",
    "    current_state = np.random.randint(1,max_states_plus_1-1)\n",
    "    t = 1 \n",
    "    while True:\n",
    "        nextstate, reward = gamblers_step(current_state, policy[int(current_state)], p, max_states_plus_1)\n",
    "#         print(nextstate, policy[int(current_state)])\n",
    "        \n",
    "        if nextstate == 0:\n",
    "            return 0, t\n",
    "        \n",
    "        if t > max_steps or reward == 1:\n",
    "            return reward, t\n",
    "\n",
    "        current_state=nextstate\n",
    "        t += 1\n",
    "    "
   ]
  },
  {
   "cell_type": "code",
   "execution_count": 133,
   "metadata": {},
   "outputs": [
    {
     "name": "stdout",
     "output_type": "stream",
     "text": [
      "seed -  0\n",
      "seed -  1\n",
      "seed -  2\n",
      "seed -  3\n",
      "seed -  4\n",
      "seed -  5\n",
      "seed -  6\n",
      "seed -  7\n",
      "seed -  8\n",
      "seed -  9\n"
     ]
    }
   ],
   "source": [
    "head_p = [0.2, 0.25, 0.3, 0.35, 0.4, 0.45, 0.55, 0.6, 0.65, 0.7]\n",
    "n_runs = 1000\n",
    "\n",
    "    \n",
    "s_range = range(10)\n",
    "win_ratio_seeds = np.zeros((len(s_range),len(head_p),len(policies)))\n",
    "for s in s_range:\n",
    "    print(\"seed - \", s)\n",
    "    policies = []\n",
    "    # non-robust opt\n",
    "    policies.append( nonrobust_opt_policy )\n",
    "    # robust opt l1\n",
    "    policies.append( robust_opt_policy_l1 )\n",
    "    # robust policies for N samples in n_range \n",
    "    for j, _ in enumerate(n_range):\n",
    "        policies.append( pol_seed[s][j] )\n",
    "    win_percent_data = []\n",
    "    for jj, p in enumerate(head_p):\n",
    "        data_collect = []\n",
    "        time_data_collect = []\n",
    "        for n in range(n_runs):\n",
    "            np.random.seed(np.random.randint(s+n+10))\n",
    "            temp = []\n",
    "            temp_2 = []\n",
    "            for j in range(len(policies)):\n",
    "                reward, steps_time = run_policy(p, policies[j], max_states_plus_1 = 100, max_steps = 500)\n",
    "                temp.append(reward)\n",
    "                temp_2.append(steps_time)\n",
    "            data_collect.append(temp)\n",
    "            time_data_collect.append(temp_2)\n",
    "\n",
    "        win_percent = np.mean(data_collect, axis=0)\n",
    "#         print(p)\n",
    "#         print('winning percent: ')\n",
    "#         print(win_percent)\n",
    "#         print('*'*40)\n",
    "        win_ratio_seeds[s,jj,:] = win_percent"
   ]
  },
  {
   "cell_type": "code",
   "execution_count": 135,
   "metadata": {},
   "outputs": [
    {
     "name": "stdout",
     "output_type": "stream",
     "text": [
      "[[3.000e-04 7.930e-02 5.000e-04 2.000e-04 1.070e-02 2.150e-02 1.020e-02\n",
      "  2.000e-01]\n",
      " [0.000e+00 1.498e-01 1.500e-03 7.100e-03 7.100e-03 3.660e-02 1.240e-02\n",
      "  2.500e-01]\n",
      " [9.000e-04 2.236e-01 4.100e-03 8.000e-03 2.240e-02 4.430e-02 2.970e-02\n",
      "  3.000e-01]\n",
      " [1.300e-03 2.320e-01 1.750e-02 2.620e-02 5.100e-02 6.320e-02 7.690e-02\n",
      "  3.500e-01]\n",
      " [6.500e-03 2.736e-01 5.600e-02 8.100e-02 1.340e-01 1.324e-01 1.490e-01\n",
      "  4.000e-01]\n",
      " [2.990e-02 4.486e-01 1.561e-01 2.217e-01 3.107e-01 3.039e-01 3.045e-01\n",
      "  4.500e-01]\n",
      " [6.540e-01 6.005e-01 8.183e-01 7.578e-01 6.646e-01 6.344e-01 6.355e-01\n",
      "  5.500e-01]\n",
      " [9.758e-01 5.691e-01 9.432e-01 9.157e-01 7.396e-01 7.643e-01 7.297e-01\n",
      "  6.000e-01]\n",
      " [9.769e-01 6.429e-01 9.871e-01 9.282e-01 8.584e-01 8.438e-01 8.365e-01\n",
      "  6.500e-01]\n",
      " [9.917e-01 7.651e-01 9.886e-01 9.797e-01 8.426e-01 8.650e-01 8.758e-01\n",
      "  7.000e-01]]\n",
      "[[9.00000000e-04 6.09328319e-02 1.50000000e-03 4.00000000e-04\n",
      "  2.30740114e-02 5.46008242e-02 1.51512376e-02 2.00000000e-01]\n",
      " [0.00000000e+00 8.70710055e-02 2.97489496e-03 6.78896163e-03\n",
      "  4.22965720e-03 5.86399181e-02 1.09745159e-02 2.50000000e-01]\n",
      " [1.64012195e-03 5.30965159e-02 4.54862617e-03 1.00796825e-02\n",
      "  2.62419511e-02 4.18187757e-02 2.19136943e-02 3.00000000e-01]\n",
      " [1.18743421e-03 8.71320836e-02 9.38349615e-03 1.67260276e-02\n",
      "  3.84785655e-02 2.85580111e-02 4.25686504e-02 3.50000000e-01]\n",
      " [9.03603896e-03 8.89406544e-02 2.88686681e-02 4.48464045e-02\n",
      "  4.96507805e-02 4.44931455e-02 6.99113725e-02 4.00000000e-01]\n",
      " [2.90394559e-02 1.10186388e-01 7.22557264e-02 9.70670387e-02\n",
      "  6.82452196e-02 9.08222990e-02 8.37248470e-02 4.50000000e-01]\n",
      " [8.73784871e-02 5.83030874e-02 3.79896038e-02 6.71741022e-02\n",
      "  7.25605954e-02 7.66553325e-02 7.12155180e-02 5.50000000e-01]\n",
      " [2.13579025e-02 1.62976962e-01 4.23882059e-02 4.79980208e-02\n",
      "  1.38471802e-01 6.13352264e-02 1.18504051e-01 6.00000000e-01]\n",
      " [3.09885463e-02 1.39534548e-01 1.80800996e-02 3.60549581e-02\n",
      "  7.31685725e-02 6.88836701e-02 4.47733179e-02 6.50000000e-01]\n",
      " [1.26257673e-02 2.66661002e-01 1.40584494e-02 1.10909873e-02\n",
      "  2.75676332e-01 2.31161848e-01 1.10336576e-01 7.00000000e-01]]\n"
     ]
    }
   ],
   "source": [
    "mean_vals = np.mean(win_ratio_seeds,axis=0)\n",
    "std_vals = np.std(win_ratio_seeds,axis=0)\n",
    "\n",
    "# Note-to-self: High time I learn using panda!\n",
    "head_p_with_mean_vals = np.zeros((mean_vals.shape[0],mean_vals.shape[1]+1))\n",
    "head_p_with_mean_vals[:,0:mean_vals.shape[1]] = mean_vals\n",
    "head_p_with_mean_vals[:,-1] = head_p\n",
    "\n",
    "head_p_with_std_vals = np.zeros((mean_vals.shape[0],mean_vals.shape[1]+1))\n",
    "head_p_with_std_vals[:,0:mean_vals.shape[1]] = std_vals\n",
    "head_p_with_std_vals[:,-1] = head_p\n",
    "# print(head_p_with_mean_vals)\n",
    "# print(head_p_with_std_vals)\n",
    "\n",
    "\n",
    "# Uncomment this if you want to save data\n",
    "# np.savetxt('gambler_l1_c_r_0.2_test_performance_2.csv', (head_p_with_mean_vals.reshape(-1), head_p_with_std_vals.reshape(-1)),\\\n",
    "#                                    delimiter=',')"
   ]
  },
  {
   "cell_type": "code",
   "execution_count": null,
   "metadata": {},
   "outputs": [],
   "source": []
  }
 ],
 "metadata": {
  "kernelspec": {
   "display_name": "Python 3",
   "language": "python",
   "name": "python3"
  },
  "language_info": {
   "codemirror_mode": {
    "name": "ipython",
    "version": 3
   },
   "file_extension": ".py",
   "mimetype": "text/x-python",
   "name": "python",
   "nbconvert_exporter": "python",
   "pygments_lexer": "ipython3",
   "version": "3.7.0"
  }
 },
 "nbformat": 4,
 "nbformat_minor": 2
}
